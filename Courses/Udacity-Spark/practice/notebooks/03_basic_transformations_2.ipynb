{
 "cells": [
  {
   "cell_type": "code",
   "execution_count": 1,
   "id": "35d4bf1c",
   "metadata": {},
   "outputs": [],
   "source": [
    "from pyspark.sql import SparkSession\n",
    "\n",
    "spark = (\n",
    "    SparkSession\n",
    "    .builder\n",
    "    .appName(\"Basic Transformation 2\")\n",
    "    .master(\"local[4]\")\n",
    "    .getOrCreate()\n",
    ")"
   ]
  },
  {
   "cell_type": "code",
   "execution_count": 2,
   "id": "daa2c9e9",
   "metadata": {},
   "outputs": [
    {
     "data": {
      "text/html": [
       "\n",
       "            <div>\n",
       "                <p><b>SparkSession - in-memory</b></p>\n",
       "                \n",
       "        <div>\n",
       "            <p><b>SparkContext</b></p>\n",
       "\n",
       "            <p><a href=\"http://93d1bc760d5e:4041\">Spark UI</a></p>\n",
       "\n",
       "            <dl>\n",
       "              <dt>Version</dt>\n",
       "                <dd><code>v3.5.0</code></dd>\n",
       "              <dt>Master</dt>\n",
       "                <dd><code>local[4]</code></dd>\n",
       "              <dt>AppName</dt>\n",
       "                <dd><code>Basic Transformation 2</code></dd>\n",
       "            </dl>\n",
       "        </div>\n",
       "        \n",
       "            </div>\n",
       "        "
      ],
      "text/plain": [
       "<pyspark.sql.session.SparkSession at 0x7f7bf57d3510>"
      ]
     },
     "execution_count": 2,
     "metadata": {},
     "output_type": "execute_result"
    }
   ],
   "source": [
    "spark"
   ]
  },
  {
   "cell_type": "code",
   "execution_count": 3,
   "id": "8baf2adc",
   "metadata": {},
   "outputs": [],
   "source": [
    "# Emp Data & Schema\n",
    "\n",
    "emp_data = [\n",
    "    [\"001\",\"101\",\"John Doe\",\"30\",\"Male\",\"50000\",\"2015-01-01\"],\n",
    "    [\"002\",\"101\",\"Jane Smith\",\"25\",\"Female\",\"45000\",\"2016-02-15\"],\n",
    "    [\"003\",\"102\",\"Bob Brown\",\"35\",\"Male\",\"55000\",\"2014-05-01\"],\n",
    "    [\"004\",\"102\",\"Alice Lee\",\"28\",\"Female\",\"48000\",\"2017-09-30\"],\n",
    "    [\"005\",\"103\",\"Jack Chan\",\"40\",\"Male\",\"60000\",\"2013-04-01\"],\n",
    "    [\"006\",\"103\",\"Jill Wong\",\"32\",\"Female\",\"52000\",\"2018-07-01\"],\n",
    "    [\"007\",\"101\",\"James Johnson\",\"42\",\"Male\",\"70000\",\"2012-03-15\"],\n",
    "    [\"008\",\"102\",\"Kate Kim\",\"29\",\"Female\",\"51000\",\"2019-10-01\"],\n",
    "    [\"009\",\"103\",\"Tom Tan\",\"33\",\"Male\",\"58000\",\"2016-06-01\"],\n",
    "    [\"010\",\"104\",\"Lisa Lee\",\"27\",\"Female\",\"47000\",\"2018-08-01\"],\n",
    "    [\"011\",\"104\",\"David Park\",\"38\",\"Male\",\"65000\",\"2015-11-01\"],\n",
    "    [\"012\",\"105\",\"Susan Chen\",\"31\",\"Female\",\"54000\",\"2017-02-15\"],\n",
    "    [\"013\",\"106\",\"Brian Kim\",\"45\",\"Male\",\"75000\",\"2011-07-01\"],\n",
    "    [\"014\",\"107\",\"Emily Lee\",\"26\",\"Female\",\"46000\",\"2019-01-01\"],\n",
    "    [\"015\",\"106\",\"Michael Lee\",\"37\",\"Male\",\"63000\",\"2014-09-30\"],\n",
    "    [\"016\",\"107\",\"Kelly Zhang\",\"30\",\"Female\",\"49000\",\"2018-04-01\"],\n",
    "    [\"017\",\"105\",\"George Wang\",\"34\",\"Male\",\"57000\",\"2016-03-15\"],\n",
    "    [\"018\",\"104\",\"Nancy Liu\",\"29\",\"Female\",\"50000\",\"2017-06-01\"],\n",
    "    [\"019\",\"103\",\"Steven Chen\",\"36\",\"Male\",\"62000\",\"2015-08-01\"],\n",
    "    [\"020\",\"102\",\"Grace Kim\",\"32\",\"Female\",\"53000\",\"2018-11-01\"]\n",
    "]\n",
    "\n",
    "emp_schema = \"employee_id string, department_id string, name string, age string, gender string, salary string, hire_date string\""
   ]
  },
  {
   "cell_type": "code",
   "execution_count": 4,
   "id": "2608785b",
   "metadata": {},
   "outputs": [],
   "source": [
    "# Create emp DataFrame\n",
    "# This won't run yet, lazy evaluation\n",
    "emp_df = spark.createDataFrame(data=emp_data, schema=emp_schema)"
   ]
  },
  {
   "cell_type": "code",
   "execution_count": 5,
   "id": "83c35edd",
   "metadata": {},
   "outputs": [
    {
     "data": {
      "text/plain": [
       "4"
      ]
     },
     "execution_count": 5,
     "metadata": {},
     "output_type": "execute_result"
    }
   ],
   "source": [
    "# Check number of partitions\n",
    "emp_df.rdd.getNumPartitions()"
   ]
  },
  {
   "cell_type": "code",
   "execution_count": 6,
   "id": "2bda1036",
   "metadata": {},
   "outputs": [
    {
     "name": "stdout",
     "output_type": "stream",
     "text": [
      "+-----------+-------------+-------------+---+------+------+----------+\n",
      "|employee_id|department_id|         name|age|gender|salary| hire_date|\n",
      "+-----------+-------------+-------------+---+------+------+----------+\n",
      "|        001|          101|     John Doe| 30|  Male| 50000|2015-01-01|\n",
      "|        002|          101|   Jane Smith| 25|Female| 45000|2016-02-15|\n",
      "|        003|          102|    Bob Brown| 35|  Male| 55000|2014-05-01|\n",
      "|        004|          102|    Alice Lee| 28|Female| 48000|2017-09-30|\n",
      "|        005|          103|    Jack Chan| 40|  Male| 60000|2013-04-01|\n",
      "|        006|          103|    Jill Wong| 32|Female| 52000|2018-07-01|\n",
      "|        007|          101|James Johnson| 42|  Male| 70000|2012-03-15|\n",
      "|        008|          102|     Kate Kim| 29|Female| 51000|2019-10-01|\n",
      "|        009|          103|      Tom Tan| 33|  Male| 58000|2016-06-01|\n",
      "|        010|          104|     Lisa Lee| 27|Female| 47000|2018-08-01|\n",
      "|        011|          104|   David Park| 38|  Male| 65000|2015-11-01|\n",
      "|        012|          105|   Susan Chen| 31|Female| 54000|2017-02-15|\n",
      "|        013|          106|    Brian Kim| 45|  Male| 75000|2011-07-01|\n",
      "|        014|          107|    Emily Lee| 26|Female| 46000|2019-01-01|\n",
      "|        015|          106|  Michael Lee| 37|  Male| 63000|2014-09-30|\n",
      "|        016|          107|  Kelly Zhang| 30|Female| 49000|2018-04-01|\n",
      "|        017|          105|  George Wang| 34|  Male| 57000|2016-03-15|\n",
      "|        018|          104|    Nancy Liu| 29|Female| 50000|2017-06-01|\n",
      "|        019|          103|  Steven Chen| 36|  Male| 62000|2015-08-01|\n",
      "|        020|          102|    Grace Kim| 32|Female| 53000|2018-11-01|\n",
      "+-----------+-------------+-------------+---+------+------+----------+\n",
      "\n"
     ]
    }
   ],
   "source": [
    "# Show data (ACTION)\n",
    "emp_df.show()"
   ]
  },
  {
   "cell_type": "code",
   "execution_count": 7,
   "id": "da36d666",
   "metadata": {},
   "outputs": [
    {
     "name": "stdout",
     "output_type": "stream",
     "text": [
      "root\n",
      " |-- employee_id: string (nullable = true)\n",
      " |-- department_id: string (nullable = true)\n",
      " |-- name: string (nullable = true)\n",
      " |-- age: string (nullable = true)\n",
      " |-- gender: string (nullable = true)\n",
      " |-- salary: string (nullable = true)\n",
      " |-- hire_date: string (nullable = true)\n",
      "\n"
     ]
    }
   ],
   "source": [
    "# Print Schema\n",
    "\n",
    "emp_df.printSchema()"
   ]
  },
  {
   "cell_type": "code",
   "execution_count": 10,
   "id": "d5c480f9",
   "metadata": {},
   "outputs": [],
   "source": [
    "# Casting Column, another way\n",
    "# select employee_id, name, age, cast(salary as double) as salary from emp\n",
    "from pyspark.sql.functions import col, cast\n",
    "\n",
    "# emp_casted_df = emp_df.selectExpr(\"employee_id\", \"name\", \"age\", \"cast(salary as double) as salary\")\n",
    "emp_casted_df = emp_df.select(\"employee_id\", \"name\", \"age\", col(\"salary\").cast(\"double\"))"
   ]
  },
  {
   "cell_type": "code",
   "execution_count": 11,
   "id": "42351c00",
   "metadata": {},
   "outputs": [
    {
     "name": "stdout",
     "output_type": "stream",
     "text": [
      "root\n",
      " |-- employee_id: string (nullable = true)\n",
      " |-- name: string (nullable = true)\n",
      " |-- age: string (nullable = true)\n",
      " |-- salary: double (nullable = true)\n",
      "\n"
     ]
    }
   ],
   "source": [
    "emp_casted_df.printSchema()"
   ]
  },
  {
   "cell_type": "code",
   "execution_count": 12,
   "id": "3ddf3e26",
   "metadata": {},
   "outputs": [
    {
     "name": "stdout",
     "output_type": "stream",
     "text": [
      "+-----------+-------------+---+-------+\n",
      "|employee_id|         name|age| salary|\n",
      "+-----------+-------------+---+-------+\n",
      "|        001|     John Doe| 30|50000.0|\n",
      "|        002|   Jane Smith| 25|45000.0|\n",
      "|        003|    Bob Brown| 35|55000.0|\n",
      "|        004|    Alice Lee| 28|48000.0|\n",
      "|        005|    Jack Chan| 40|60000.0|\n",
      "|        006|    Jill Wong| 32|52000.0|\n",
      "|        007|James Johnson| 42|70000.0|\n",
      "|        008|     Kate Kim| 29|51000.0|\n",
      "|        009|      Tom Tan| 33|58000.0|\n",
      "|        010|     Lisa Lee| 27|47000.0|\n",
      "|        011|   David Park| 38|65000.0|\n",
      "|        012|   Susan Chen| 31|54000.0|\n",
      "|        013|    Brian Kim| 45|75000.0|\n",
      "|        014|    Emily Lee| 26|46000.0|\n",
      "|        015|  Michael Lee| 37|63000.0|\n",
      "|        016|  Kelly Zhang| 30|49000.0|\n",
      "|        017|  George Wang| 34|57000.0|\n",
      "|        018|    Nancy Liu| 29|50000.0|\n",
      "|        019|  Steven Chen| 36|62000.0|\n",
      "|        020|    Grace Kim| 32|53000.0|\n",
      "+-----------+-------------+---+-------+\n",
      "\n"
     ]
    }
   ],
   "source": [
    "emp_casted_df.show()"
   ]
  },
  {
   "cell_type": "code",
   "execution_count": 13,
   "id": "35c31d2b",
   "metadata": {},
   "outputs": [],
   "source": [
    "# Adding Columns\n",
    "# select employee_id, name, age, salary, (salary * 0.2) as tax from emp_casted\n",
    "\n",
    "emp_taxed_df = emp_casted_df.withColumn(\"tax\", col(\"salary\") * 0.2).withColumn(\"net\", col(\"salary\") - col(\"tax\"))"
   ]
  },
  {
   "cell_type": "code",
   "execution_count": 14,
   "id": "697dc39d",
   "metadata": {},
   "outputs": [
    {
     "name": "stdout",
     "output_type": "stream",
     "text": [
      "root\n",
      " |-- employee_id: string (nullable = true)\n",
      " |-- name: string (nullable = true)\n",
      " |-- age: string (nullable = true)\n",
      " |-- salary: double (nullable = true)\n",
      " |-- tax: double (nullable = true)\n",
      " |-- net: double (nullable = true)\n",
      "\n"
     ]
    }
   ],
   "source": [
    "emp_taxed_df.printSchema()"
   ]
  },
  {
   "cell_type": "code",
   "execution_count": 15,
   "id": "32a0894d",
   "metadata": {},
   "outputs": [
    {
     "name": "stdout",
     "output_type": "stream",
     "text": [
      "+-----------+-------------+---+-------+-------+-------+\n",
      "|employee_id|         name|age| salary|    tax|    net|\n",
      "+-----------+-------------+---+-------+-------+-------+\n",
      "|        001|     John Doe| 30|50000.0|10000.0|40000.0|\n",
      "|        002|   Jane Smith| 25|45000.0| 9000.0|36000.0|\n",
      "|        003|    Bob Brown| 35|55000.0|11000.0|44000.0|\n",
      "|        004|    Alice Lee| 28|48000.0| 9600.0|38400.0|\n",
      "|        005|    Jack Chan| 40|60000.0|12000.0|48000.0|\n",
      "|        006|    Jill Wong| 32|52000.0|10400.0|41600.0|\n",
      "|        007|James Johnson| 42|70000.0|14000.0|56000.0|\n",
      "|        008|     Kate Kim| 29|51000.0|10200.0|40800.0|\n",
      "|        009|      Tom Tan| 33|58000.0|11600.0|46400.0|\n",
      "|        010|     Lisa Lee| 27|47000.0| 9400.0|37600.0|\n",
      "|        011|   David Park| 38|65000.0|13000.0|52000.0|\n",
      "|        012|   Susan Chen| 31|54000.0|10800.0|43200.0|\n",
      "|        013|    Brian Kim| 45|75000.0|15000.0|60000.0|\n",
      "|        014|    Emily Lee| 26|46000.0| 9200.0|36800.0|\n",
      "|        015|  Michael Lee| 37|63000.0|12600.0|50400.0|\n",
      "|        016|  Kelly Zhang| 30|49000.0| 9800.0|39200.0|\n",
      "|        017|  George Wang| 34|57000.0|11400.0|45600.0|\n",
      "|        018|    Nancy Liu| 29|50000.0|10000.0|40000.0|\n",
      "|        019|  Steven Chen| 36|62000.0|12400.0|49600.0|\n",
      "|        020|    Grace Kim| 32|53000.0|10600.0|42400.0|\n",
      "+-----------+-------------+---+-------+-------+-------+\n",
      "\n"
     ]
    }
   ],
   "source": [
    "emp_taxed_df.show()"
   ]
  },
  {
   "cell_type": "code",
   "execution_count": null,
   "id": "5448d746",
   "metadata": {},
   "outputs": [],
   "source": []
  },
  {
   "cell_type": "code",
   "execution_count": null,
   "id": "b7ebdf58",
   "metadata": {},
   "outputs": [],
   "source": []
  },
  {
   "cell_type": "code",
   "execution_count": 16,
   "id": "8b00d02f",
   "metadata": {},
   "outputs": [],
   "source": [
    "# Literals\n",
    "# select employee_id, name, age, salary, tax, 1 as columnOne, 'two' as columnTwo from emp_taxed\n",
    "from pyspark.sql.functions import lit\n",
    "\n",
    "emp_new_cols_df = emp_taxed_df.withColumn(\"columnOne\", lit(1)).withColumn(\"columnTwo\", lit('two'))"
   ]
  },
  {
   "cell_type": "code",
   "execution_count": 17,
   "id": "95d9db88",
   "metadata": {},
   "outputs": [
    {
     "name": "stdout",
     "output_type": "stream",
     "text": [
      "+-----------+-------------+---+-------+-------+-------+---------+---------+\n",
      "|employee_id|         name|age| salary|    tax|    net|columnOne|columnTwo|\n",
      "+-----------+-------------+---+-------+-------+-------+---------+---------+\n",
      "|        001|     John Doe| 30|50000.0|10000.0|40000.0|        1|      two|\n",
      "|        002|   Jane Smith| 25|45000.0| 9000.0|36000.0|        1|      two|\n",
      "|        003|    Bob Brown| 35|55000.0|11000.0|44000.0|        1|      two|\n",
      "|        004|    Alice Lee| 28|48000.0| 9600.0|38400.0|        1|      two|\n",
      "|        005|    Jack Chan| 40|60000.0|12000.0|48000.0|        1|      two|\n",
      "|        006|    Jill Wong| 32|52000.0|10400.0|41600.0|        1|      two|\n",
      "|        007|James Johnson| 42|70000.0|14000.0|56000.0|        1|      two|\n",
      "|        008|     Kate Kim| 29|51000.0|10200.0|40800.0|        1|      two|\n",
      "|        009|      Tom Tan| 33|58000.0|11600.0|46400.0|        1|      two|\n",
      "|        010|     Lisa Lee| 27|47000.0| 9400.0|37600.0|        1|      two|\n",
      "|        011|   David Park| 38|65000.0|13000.0|52000.0|        1|      two|\n",
      "|        012|   Susan Chen| 31|54000.0|10800.0|43200.0|        1|      two|\n",
      "|        013|    Brian Kim| 45|75000.0|15000.0|60000.0|        1|      two|\n",
      "|        014|    Emily Lee| 26|46000.0| 9200.0|36800.0|        1|      two|\n",
      "|        015|  Michael Lee| 37|63000.0|12600.0|50400.0|        1|      two|\n",
      "|        016|  Kelly Zhang| 30|49000.0| 9800.0|39200.0|        1|      two|\n",
      "|        017|  George Wang| 34|57000.0|11400.0|45600.0|        1|      two|\n",
      "|        018|    Nancy Liu| 29|50000.0|10000.0|40000.0|        1|      two|\n",
      "|        019|  Steven Chen| 36|62000.0|12400.0|49600.0|        1|      two|\n",
      "|        020|    Grace Kim| 32|53000.0|10600.0|42400.0|        1|      two|\n",
      "+-----------+-------------+---+-------+-------+-------+---------+---------+\n",
      "\n"
     ]
    }
   ],
   "source": [
    "emp_new_cols_df.show()"
   ]
  },
  {
   "cell_type": "code",
   "execution_count": 18,
   "id": "3d10b29f",
   "metadata": {},
   "outputs": [],
   "source": [
    "# Renaming Columns\n",
    "# select employee_id as emp_id, name, age, salary, tax, columnOne, columnTwo from emp_new_cols\n",
    "\n",
    "emp_tax_df = emp_new_cols_df.withColumnRenamed(\"employee_id\", \"emp_id\")"
   ]
  },
  {
   "cell_type": "code",
   "execution_count": 20,
   "id": "4e2e6eb4",
   "metadata": {},
   "outputs": [
    {
     "name": "stdout",
     "output_type": "stream",
     "text": [
      "+------+----------+---+-------+-------+-------+---------+---------+\n",
      "|emp_id|      name|age| salary|    tax|    net|columnOne|columnTwo|\n",
      "+------+----------+---+-------+-------+-------+---------+---------+\n",
      "|   001|  John Doe| 30|50000.0|10000.0|40000.0|        1|      two|\n",
      "|   002|Jane Smith| 25|45000.0| 9000.0|36000.0|        1|      two|\n",
      "|   003| Bob Brown| 35|55000.0|11000.0|44000.0|        1|      two|\n",
      "+------+----------+---+-------+-------+-------+---------+---------+\n",
      "only showing top 3 rows\n",
      "\n"
     ]
    }
   ],
   "source": [
    "emp_tax_df.show(3)"
   ]
  },
  {
   "cell_type": "code",
   "execution_count": 23,
   "id": "f2877d17",
   "metadata": {},
   "outputs": [],
   "source": [
    "# Remove Column\n",
    "emp_tax_df_2 = emp_tax_df.drop(\"columnOne\", \"columnTwo\")"
   ]
  },
  {
   "cell_type": "code",
   "execution_count": 24,
   "id": "e2e4158f",
   "metadata": {},
   "outputs": [
    {
     "name": "stdout",
     "output_type": "stream",
     "text": [
      "+------+----------+---+-------+-------+-------+\n",
      "|emp_id|      name|age| salary|    tax|    net|\n",
      "+------+----------+---+-------+-------+-------+\n",
      "|   001|  John Doe| 30|50000.0|10000.0|40000.0|\n",
      "|   002|Jane Smith| 25|45000.0| 9000.0|36000.0|\n",
      "|   003| Bob Brown| 35|55000.0|11000.0|44000.0|\n",
      "+------+----------+---+-------+-------+-------+\n",
      "only showing top 3 rows\n",
      "\n"
     ]
    }
   ],
   "source": [
    "emp_tax_df_2.show(3)"
   ]
  },
  {
   "cell_type": "code",
   "execution_count": 25,
   "id": "b2ff213b",
   "metadata": {},
   "outputs": [],
   "source": [
    "# Filter data \n",
    "# select employee_id as emp_id, name, age, salary, tax, columnOne from emp_col_dropped where tax > 1000\n",
    "\n",
    "emp_filterd_df = emp_tax_df_2.where('tax > 1000')"
   ]
  },
  {
   "cell_type": "code",
   "execution_count": 26,
   "id": "a60c49a5",
   "metadata": {},
   "outputs": [
    {
     "name": "stdout",
     "output_type": "stream",
     "text": [
      "+------+-------------+---+-------+-------+-------+\n",
      "|emp_id|         name|age| salary|    tax|    net|\n",
      "+------+-------------+---+-------+-------+-------+\n",
      "|   001|     John Doe| 30|50000.0|10000.0|40000.0|\n",
      "|   002|   Jane Smith| 25|45000.0| 9000.0|36000.0|\n",
      "|   003|    Bob Brown| 35|55000.0|11000.0|44000.0|\n",
      "|   004|    Alice Lee| 28|48000.0| 9600.0|38400.0|\n",
      "|   005|    Jack Chan| 40|60000.0|12000.0|48000.0|\n",
      "|   006|    Jill Wong| 32|52000.0|10400.0|41600.0|\n",
      "|   007|James Johnson| 42|70000.0|14000.0|56000.0|\n",
      "|   008|     Kate Kim| 29|51000.0|10200.0|40800.0|\n",
      "|   009|      Tom Tan| 33|58000.0|11600.0|46400.0|\n",
      "|   010|     Lisa Lee| 27|47000.0| 9400.0|37600.0|\n",
      "|   011|   David Park| 38|65000.0|13000.0|52000.0|\n",
      "|   012|   Susan Chen| 31|54000.0|10800.0|43200.0|\n",
      "|   013|    Brian Kim| 45|75000.0|15000.0|60000.0|\n",
      "|   014|    Emily Lee| 26|46000.0| 9200.0|36800.0|\n",
      "|   015|  Michael Lee| 37|63000.0|12600.0|50400.0|\n",
      "|   016|  Kelly Zhang| 30|49000.0| 9800.0|39200.0|\n",
      "|   017|  George Wang| 34|57000.0|11400.0|45600.0|\n",
      "|   018|    Nancy Liu| 29|50000.0|10000.0|40000.0|\n",
      "|   019|  Steven Chen| 36|62000.0|12400.0|49600.0|\n",
      "|   020|    Grace Kim| 32|53000.0|10600.0|42400.0|\n",
      "+------+-------------+---+-------+-------+-------+\n",
      "\n"
     ]
    }
   ],
   "source": [
    "emp_filterd_df.show()"
   ]
  },
  {
   "cell_type": "code",
   "execution_count": 27,
   "id": "9c2c46df",
   "metadata": {},
   "outputs": [],
   "source": [
    "# LIMIT data\n",
    "# select employee_id as emp_id, name, age, salary, tax from emp_filterd_df limit 5\n",
    "emp_limit_df = emp_filterd_df.limit(5)"
   ]
  },
  {
   "cell_type": "code",
   "execution_count": 28,
   "id": "8673306f",
   "metadata": {},
   "outputs": [
    {
     "name": "stdout",
     "output_type": "stream",
     "text": [
      "+------+----------+---+-------+-------+-------+\n",
      "|emp_id|      name|age| salary|    tax|    net|\n",
      "+------+----------+---+-------+-------+-------+\n",
      "|   001|  John Doe| 30|50000.0|10000.0|40000.0|\n",
      "|   002|Jane Smith| 25|45000.0| 9000.0|36000.0|\n",
      "|   003| Bob Brown| 35|55000.0|11000.0|44000.0|\n",
      "|   004| Alice Lee| 28|48000.0| 9600.0|38400.0|\n",
      "|   005| Jack Chan| 40|60000.0|12000.0|48000.0|\n",
      "+------+----------+---+-------+-------+-------+\n",
      "\n"
     ]
    }
   ],
   "source": [
    "emp_limit_df.show()"
   ]
  },
  {
   "cell_type": "code",
   "execution_count": null,
   "id": "9b99f3f7",
   "metadata": {},
   "outputs": [],
   "source": []
  },
  {
   "cell_type": "code",
   "execution_count": 33,
   "id": "5ba7ad3f",
   "metadata": {},
   "outputs": [
    {
     "data": {
      "text/plain": [
       "4"
      ]
     },
     "execution_count": 33,
     "metadata": {},
     "output_type": "execute_result"
    }
   ],
   "source": [
    "# Output the data\n",
    "# Write the data back as CSV (ACTION)\n",
    "\n",
    "emp_filterd_df.rdd.getNumPartitions()"
   ]
  },
  {
   "cell_type": "code",
   "execution_count": 34,
   "id": "0f3f1e3b",
   "metadata": {},
   "outputs": [],
   "source": [
    "emp_filterd_df.write.format('csv').save('data/2/emp_filterd_df.csv')"
   ]
  },
  {
   "attachments": {},
   "cell_type": "markdown",
   "id": "5336c34f",
   "metadata": {},
   "source": [
    "![](images/4_partisions_saving.png)"
   ]
  },
  {
   "cell_type": "markdown",
   "id": "47a5e90f",
   "metadata": {},
   "source": [
    "![](images/4_partisions_saving_cat.png)"
   ]
  },
  {
   "cell_type": "markdown",
   "id": "5f92c5d1",
   "metadata": {},
   "source": [
    "![](images/4_partisions_saving_cat.png)"
   ]
  },
  {
   "cell_type": "code",
   "execution_count": null,
   "id": "11ad4b5a",
   "metadata": {},
   "outputs": [],
   "source": []
  }
 ],
 "metadata": {
  "kernelspec": {
   "display_name": "Python 3 (ipykernel)",
   "language": "python",
   "name": "python3"
  },
  "language_info": {
   "codemirror_mode": {
    "name": "ipython",
    "version": 3
   },
   "file_extension": ".py",
   "mimetype": "text/x-python",
   "name": "python",
   "nbconvert_exporter": "python",
   "pygments_lexer": "ipython3",
   "version": "3.11.6"
  }
 },
 "nbformat": 4,
 "nbformat_minor": 5
}
