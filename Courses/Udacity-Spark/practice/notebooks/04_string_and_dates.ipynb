{
 "cells": [
  {
   "cell_type": "code",
   "execution_count": 1,
   "id": "56778996",
   "metadata": {},
   "outputs": [
    {
     "data": {
      "text/html": [
       "\n",
       "            <div>\n",
       "                <p><b>SparkSession - in-memory</b></p>\n",
       "                \n",
       "        <div>\n",
       "            <p><b>SparkContext</b></p>\n",
       "\n",
       "            <p><a href=\"http://93d1bc760d5e:4040\">Spark UI</a></p>\n",
       "\n",
       "            <dl>\n",
       "              <dt>Version</dt>\n",
       "                <dd><code>v3.5.0</code></dd>\n",
       "              <dt>Master</dt>\n",
       "                <dd><code>local[*]</code></dd>\n",
       "              <dt>AppName</dt>\n",
       "                <dd><code>Working with Strings & Dates</code></dd>\n",
       "            </dl>\n",
       "        </div>\n",
       "        \n",
       "            </div>\n",
       "        "
      ],
      "text/plain": [
       "<pyspark.sql.session.SparkSession at 0x7ff911b1b490>"
      ]
     },
     "execution_count": 1,
     "metadata": {},
     "output_type": "execute_result"
    }
   ],
   "source": [
    "# Spark Session\n",
    "from pyspark.sql import SparkSession\n",
    "\n",
    "spark = (\n",
    "    SparkSession\n",
    "    .builder\n",
    "    .appName(\"Working with Strings & Dates\")\n",
    "    .master(\"local[*]\")\n",
    "    .getOrCreate()\n",
    ")\n",
    "\n",
    "spark"
   ]
  },
  {
   "cell_type": "code",
   "execution_count": 2,
   "id": "01ac97a7",
   "metadata": {},
   "outputs": [],
   "source": [
    "# Emp Data & Schema\n",
    "\n",
    "emp_data = [\n",
    "    [\"001\",\"101\",\"John Doe\",\"30\",\"Male\",\"50000\",\"2015-01-01\"],\n",
    "    [\"002\",\"101\",\"Jane Smith\",\"25\",\"Female\",\"45000\",\"2016-02-15\"],\n",
    "    [\"003\",\"102\",\"Bob Brown\",\"35\",\"Male\",\"55000\",\"2014-05-01\"],\n",
    "    [\"004\",\"102\",\"Alice Lee\",\"28\",\"Female\",\"48000\",\"2017-09-30\"],\n",
    "    [\"005\",\"103\",\"Jack Chan\",\"40\",\"Male\",\"60000\",\"2013-04-01\"],\n",
    "    [\"006\",\"103\",\"Jill Wong\",\"32\",\"Female\",\"52000\",\"2018-07-01\"],\n",
    "    [\"007\",\"101\",\"James Johnson\",\"42\",\"Male\",\"70000\",\"2012-03-15\"],\n",
    "    [\"008\",\"102\",\"Kate Kim\",\"29\",\"Female\",\"51000\",\"2019-10-01\"],\n",
    "    [\"009\",\"103\",\"Tom Tan\",\"33\",\"Male\",\"58000\",\"2016-06-01\"],\n",
    "    [\"010\",\"104\",\"Lisa Lee\",\"27\",\"Female\",\"47000\",\"2018-08-01\"],\n",
    "    [\"011\",\"104\",\"David Park\",\"38\",\"Male\",\"65000\",\"2015-11-01\"],\n",
    "    [\"012\",\"105\",\"Susan Chen\",\"31\",\"Female\",\"54000\",\"2017-02-15\"],\n",
    "    [\"013\",\"106\",\"Brian Kim\",\"45\",\"Male\",\"75000\",\"2011-07-01\"],\n",
    "    [\"014\",\"107\",\"Emily Lee\",\"26\",\"Female\",\"46000\",\"2019-01-01\"],\n",
    "    [\"015\",\"106\",\"Michael Lee\",\"37\",\"Male\",\"63000\",\"2014-09-30\"],\n",
    "    [\"016\",\"107\",\"Kelly Zhang\",\"30\",\"Female\",\"49000\",\"2018-04-01\"],\n",
    "    [\"017\",\"105\",\"George Wang\",\"34\",\"Male\",\"57000\",\"2016-03-15\"],\n",
    "    [\"018\",\"104\",\"Nancy Liu\",\"29\",\"\",\"50000\",\"2017-06-01\"],\n",
    "    [\"019\",\"103\",\"Steven Chen\",\"36\",\"Male\",\"62000\",\"2015-08-01\"],\n",
    "    [\"020\",\"102\",\"Grace Kim\",\"32\",\"Female\",\"53000\",\"2018-11-01\"]\n",
    "]\n",
    "\n",
    "emp_schema = \"employee_id string, department_id string, name string, age string, gender string, salary string, hire_date string\""
   ]
  },
  {
   "cell_type": "code",
   "execution_count": 6,
   "id": "d7703e0f",
   "metadata": {},
   "outputs": [],
   "source": [
    "# Create emp DataFrame\n",
    "\n",
    "emp_df = spark.createDataFrame(data=emp_data, schema=emp_schema)"
   ]
  },
  {
   "cell_type": "code",
   "execution_count": 7,
   "id": "c532234e",
   "metadata": {},
   "outputs": [
    {
     "name": "stdout",
     "output_type": "stream",
     "text": [
      "+-----------+-------------+-------------+---+------+------+----------+\n",
      "|employee_id|department_id|         name|age|gender|salary| hire_date|\n",
      "+-----------+-------------+-------------+---+------+------+----------+\n",
      "|        001|          101|     John Doe| 30|  Male| 50000|2015-01-01|\n",
      "|        002|          101|   Jane Smith| 25|Female| 45000|2016-02-15|\n",
      "|        003|          102|    Bob Brown| 35|  Male| 55000|2014-05-01|\n",
      "|        004|          102|    Alice Lee| 28|Female| 48000|2017-09-30|\n",
      "|        005|          103|    Jack Chan| 40|  Male| 60000|2013-04-01|\n",
      "|        006|          103|    Jill Wong| 32|Female| 52000|2018-07-01|\n",
      "|        007|          101|James Johnson| 42|  Male| 70000|2012-03-15|\n",
      "|        008|          102|     Kate Kim| 29|Female| 51000|2019-10-01|\n",
      "|        009|          103|      Tom Tan| 33|  Male| 58000|2016-06-01|\n",
      "|        010|          104|     Lisa Lee| 27|Female| 47000|2018-08-01|\n",
      "|        011|          104|   David Park| 38|  Male| 65000|2015-11-01|\n",
      "|        012|          105|   Susan Chen| 31|Female| 54000|2017-02-15|\n",
      "|        013|          106|    Brian Kim| 45|  Male| 75000|2011-07-01|\n",
      "|        014|          107|    Emily Lee| 26|Female| 46000|2019-01-01|\n",
      "|        015|          106|  Michael Lee| 37|  Male| 63000|2014-09-30|\n",
      "|        016|          107|  Kelly Zhang| 30|Female| 49000|2018-04-01|\n",
      "|        017|          105|  George Wang| 34|  Male| 57000|2016-03-15|\n",
      "|        018|          104|    Nancy Liu| 29|      | 50000|2017-06-01|\n",
      "|        019|          103|  Steven Chen| 36|  Male| 62000|2015-08-01|\n",
      "|        020|          102|    Grace Kim| 32|Female| 53000|2018-11-01|\n",
      "+-----------+-------------+-------------+---+------+------+----------+\n",
      "\n"
     ]
    }
   ],
   "source": [
    "# Show emp dataframe (ACTION)\n",
    "\n",
    "emp_df.show()"
   ]
  },
  {
   "cell_type": "code",
   "execution_count": 8,
   "id": "8f3337b1",
   "metadata": {},
   "outputs": [
    {
     "name": "stdout",
     "output_type": "stream",
     "text": [
      "root\n",
      " |-- employee_id: string (nullable = true)\n",
      " |-- department_id: string (nullable = true)\n",
      " |-- name: string (nullable = true)\n",
      " |-- age: string (nullable = true)\n",
      " |-- gender: string (nullable = true)\n",
      " |-- salary: string (nullable = true)\n",
      " |-- hire_date: string (nullable = true)\n",
      "\n"
     ]
    }
   ],
   "source": [
    "# Print Schema\n",
    "\n",
    "emp_df.printSchema()"
   ]
  },
  {
   "cell_type": "code",
   "execution_count": 12,
   "id": "ccac8b89",
   "metadata": {},
   "outputs": [],
   "source": [
    "# Case When\n",
    "# select employee_id, name, age, salary, gender,\n",
    "# case when gender = 'Male' then 'M' when gender = 'Female' then 'F' else null end as new_gender, hire_date from emp\n",
    "from pyspark.sql.functions import when, col, expr\n",
    "\n",
    "emp_gender_df = emp_df.withColumn(\"new_gender\", when(col(\"gender\") == \"Male\", \"M\")\n",
    "                                               .when(col(\"gender\") == \"Female\", \"F\")\n",
    "                                               .otherwise(None)\n",
    "                                 )\n",
    "\n",
    "emp_gender_df2 = emp_df.withColumn(\"new_gender\", expr(\"\"\"case when gender = 'Male' then 'M'\n",
    "                                                              when gender = 'Female' then 'F'\n",
    "                                                              else null\n",
    "                                                          end\n",
    "                                                       \"\"\")\n",
    "                                  )\n"
   ]
  },
  {
   "cell_type": "code",
   "execution_count": 11,
   "id": "8c41ca5d",
   "metadata": {},
   "outputs": [
    {
     "name": "stdout",
     "output_type": "stream",
     "text": [
      "+-----------+-------------+-------------+---+------+------+----------+----------+\n",
      "|employee_id|department_id|         name|age|gender|salary| hire_date|new_gender|\n",
      "+-----------+-------------+-------------+---+------+------+----------+----------+\n",
      "|        001|          101|     John Doe| 30|  Male| 50000|2015-01-01|         M|\n",
      "|        002|          101|   Jane Smith| 25|Female| 45000|2016-02-15|         F|\n",
      "|        003|          102|    Bob Brown| 35|  Male| 55000|2014-05-01|         M|\n",
      "|        004|          102|    Alice Lee| 28|Female| 48000|2017-09-30|         F|\n",
      "|        005|          103|    Jack Chan| 40|  Male| 60000|2013-04-01|         M|\n",
      "|        006|          103|    Jill Wong| 32|Female| 52000|2018-07-01|         F|\n",
      "|        007|          101|James Johnson| 42|  Male| 70000|2012-03-15|         M|\n",
      "|        008|          102|     Kate Kim| 29|Female| 51000|2019-10-01|         F|\n",
      "|        009|          103|      Tom Tan| 33|  Male| 58000|2016-06-01|         M|\n",
      "|        010|          104|     Lisa Lee| 27|Female| 47000|2018-08-01|         F|\n",
      "|        011|          104|   David Park| 38|  Male| 65000|2015-11-01|         M|\n",
      "|        012|          105|   Susan Chen| 31|Female| 54000|2017-02-15|         F|\n",
      "|        013|          106|    Brian Kim| 45|  Male| 75000|2011-07-01|         M|\n",
      "|        014|          107|    Emily Lee| 26|Female| 46000|2019-01-01|         F|\n",
      "|        015|          106|  Michael Lee| 37|  Male| 63000|2014-09-30|         M|\n",
      "|        016|          107|  Kelly Zhang| 30|Female| 49000|2018-04-01|         F|\n",
      "|        017|          105|  George Wang| 34|  Male| 57000|2016-03-15|         M|\n",
      "|        018|          104|    Nancy Liu| 29|      | 50000|2017-06-01|      NULL|\n",
      "|        019|          103|  Steven Chen| 36|  Male| 62000|2015-08-01|         M|\n",
      "|        020|          102|    Grace Kim| 32|Female| 53000|2018-11-01|         F|\n",
      "+-----------+-------------+-------------+---+------+------+----------+----------+\n",
      "\n"
     ]
    }
   ],
   "source": [
    "emp_gender_df.show()"
   ]
  },
  {
   "cell_type": "code",
   "execution_count": 13,
   "id": "c200775f",
   "metadata": {},
   "outputs": [
    {
     "name": "stdout",
     "output_type": "stream",
     "text": [
      "+-----------+-------------+-------------+---+------+------+----------+----------+\n",
      "|employee_id|department_id|         name|age|gender|salary| hire_date|new_gender|\n",
      "+-----------+-------------+-------------+---+------+------+----------+----------+\n",
      "|        001|          101|     John Doe| 30|  Male| 50000|2015-01-01|         M|\n",
      "|        002|          101|   Jane Smith| 25|Female| 45000|2016-02-15|         F|\n",
      "|        003|          102|    Bob Brown| 35|  Male| 55000|2014-05-01|         M|\n",
      "|        004|          102|    Alice Lee| 28|Female| 48000|2017-09-30|         F|\n",
      "|        005|          103|    Jack Chan| 40|  Male| 60000|2013-04-01|         M|\n",
      "|        006|          103|    Jill Wong| 32|Female| 52000|2018-07-01|         F|\n",
      "|        007|          101|James Johnson| 42|  Male| 70000|2012-03-15|         M|\n",
      "|        008|          102|     Kate Kim| 29|Female| 51000|2019-10-01|         F|\n",
      "|        009|          103|      Tom Tan| 33|  Male| 58000|2016-06-01|         M|\n",
      "|        010|          104|     Lisa Lee| 27|Female| 47000|2018-08-01|         F|\n",
      "|        011|          104|   David Park| 38|  Male| 65000|2015-11-01|         M|\n",
      "|        012|          105|   Susan Chen| 31|Female| 54000|2017-02-15|         F|\n",
      "|        013|          106|    Brian Kim| 45|  Male| 75000|2011-07-01|         M|\n",
      "|        014|          107|    Emily Lee| 26|Female| 46000|2019-01-01|         F|\n",
      "|        015|          106|  Michael Lee| 37|  Male| 63000|2014-09-30|         M|\n",
      "|        016|          107|  Kelly Zhang| 30|Female| 49000|2018-04-01|         F|\n",
      "|        017|          105|  George Wang| 34|  Male| 57000|2016-03-15|         M|\n",
      "|        018|          104|    Nancy Liu| 29|      | 50000|2017-06-01|      NULL|\n",
      "|        019|          103|  Steven Chen| 36|  Male| 62000|2015-08-01|         M|\n",
      "|        020|          102|    Grace Kim| 32|Female| 53000|2018-11-01|         F|\n",
      "+-----------+-------------+-------------+---+------+------+----------+----------+\n",
      "\n"
     ]
    }
   ],
   "source": [
    "emp_gender_df2.show()"
   ]
  },
  {
   "cell_type": "code",
   "execution_count": 14,
   "id": "6ad6c965",
   "metadata": {},
   "outputs": [],
   "source": [
    "# Replace in Strings\n",
    "# select employee_id, name, replace(name, 'J', 'Z') as new_name, age, salary, gender, new_gender, hire_date from emp_gender_fixed\n",
    "# link for string functions on spark\n",
    "# https://spark.apache.org/docs/latest/api/python/reference/pyspark.sql/functions.html#string-functions\n",
    "from pyspark.sql.functions import regexp_replace\n",
    "\n",
    "emp_name_changed_df = emp_gender_df.withColumn('new_name', regexp_replace(col('name'), 'J', 'Z'))"
   ]
  },
  {
   "cell_type": "code",
   "execution_count": 15,
   "id": "148f796d",
   "metadata": {},
   "outputs": [
    {
     "name": "stdout",
     "output_type": "stream",
     "text": [
      "+-----------+-------------+----------+---+------+------+----------+----------+----------+\n",
      "|employee_id|department_id|      name|age|gender|salary| hire_date|new_gender|  new_name|\n",
      "+-----------+-------------+----------+---+------+------+----------+----------+----------+\n",
      "|        001|          101|  John Doe| 30|  Male| 50000|2015-01-01|         M|  Zohn Doe|\n",
      "|        002|          101|Jane Smith| 25|Female| 45000|2016-02-15|         F|Zane Smith|\n",
      "|        003|          102| Bob Brown| 35|  Male| 55000|2014-05-01|         M| Bob Brown|\n",
      "|        004|          102| Alice Lee| 28|Female| 48000|2017-09-30|         F| Alice Lee|\n",
      "|        005|          103| Jack Chan| 40|  Male| 60000|2013-04-01|         M| Zack Chan|\n",
      "+-----------+-------------+----------+---+------+------+----------+----------+----------+\n",
      "only showing top 5 rows\n",
      "\n"
     ]
    }
   ],
   "source": [
    "emp_name_changed_df.show(5)"
   ]
  },
  {
   "cell_type": "code",
   "execution_count": 18,
   "id": "d9a1adc5",
   "metadata": {},
   "outputs": [],
   "source": [
    "# Convert Date\n",
    "# select *,  to_date(hire_date, 'YYYY-MM-DD') as hire_date from emp_name_fixed\n",
    "# Link for date finctions and patterns in spark\n",
    "# https://spark.apache.org/docs/latest/sql-ref-datetime-pattern.html\n",
    "from pyspark.sql.functions import to_date\n",
    "\n",
    "emp_date_fixed_df = emp_name_changed_df.withColumn('new_hire_date', to_date(col('hire_date'), 'yyyy-MM-dd'))\n",
    "\n",
    "# this will replace the column\n",
    "# emp_date_fixed_df = emp_name_changed_df.withColumn('hire_date', to_date(col('hire_date'), 'yyyy-MM-dd'))"
   ]
  },
  {
   "cell_type": "code",
   "execution_count": 20,
   "id": "d1201fe3",
   "metadata": {},
   "outputs": [
    {
     "name": "stdout",
     "output_type": "stream",
     "text": [
      "root\n",
      " |-- employee_id: string (nullable = true)\n",
      " |-- department_id: string (nullable = true)\n",
      " |-- name: string (nullable = true)\n",
      " |-- age: string (nullable = true)\n",
      " |-- gender: string (nullable = true)\n",
      " |-- salary: string (nullable = true)\n",
      " |-- hire_date: string (nullable = true)\n",
      " |-- new_gender: string (nullable = true)\n",
      " |-- new_name: string (nullable = true)\n",
      " |-- new_hire_date: date (nullable = true)\n",
      "\n"
     ]
    }
   ],
   "source": [
    "emp_date_fixed_df.printSchema()"
   ]
  },
  {
   "cell_type": "code",
   "execution_count": 19,
   "id": "808ffcbe",
   "metadata": {},
   "outputs": [
    {
     "name": "stdout",
     "output_type": "stream",
     "text": [
      "+-----------+-------------+----------+---+------+------+----------+----------+----------+-------------+\n",
      "|employee_id|department_id|      name|age|gender|salary| hire_date|new_gender|  new_name|new_hire_date|\n",
      "+-----------+-------------+----------+---+------+------+----------+----------+----------+-------------+\n",
      "|        001|          101|  John Doe| 30|  Male| 50000|2015-01-01|         M|  Zohn Doe|   2015-01-01|\n",
      "|        002|          101|Jane Smith| 25|Female| 45000|2016-02-15|         F|Zane Smith|   2016-02-15|\n",
      "|        003|          102| Bob Brown| 35|  Male| 55000|2014-05-01|         M| Bob Brown|   2014-05-01|\n",
      "|        004|          102| Alice Lee| 28|Female| 48000|2017-09-30|         F| Alice Lee|   2017-09-30|\n",
      "|        005|          103| Jack Chan| 40|  Male| 60000|2013-04-01|         M| Zack Chan|   2013-04-01|\n",
      "+-----------+-------------+----------+---+------+------+----------+----------+----------+-------------+\n",
      "only showing top 5 rows\n",
      "\n"
     ]
    }
   ],
   "source": [
    "emp_date_fixed_df.show(5)"
   ]
  },
  {
   "cell_type": "code",
   "execution_count": 21,
   "id": "87972282",
   "metadata": {},
   "outputs": [],
   "source": [
    "# Add Date Columns\n",
    "# Add current_date, current_timestamp, extract year from hire_date\n",
    "from pyspark.sql.functions import current_date, current_timestamp\n",
    "\n",
    "emp_dated_df = emp_date_fixed_df.withColumn('date_now', current_date()).withColumn('timestamp_now', current_timestamp())"
   ]
  },
  {
   "cell_type": "code",
   "execution_count": 23,
   "id": "1a2f3e3f",
   "metadata": {},
   "outputs": [
    {
     "name": "stdout",
     "output_type": "stream",
     "text": [
      "root\n",
      " |-- employee_id: string (nullable = true)\n",
      " |-- department_id: string (nullable = true)\n",
      " |-- name: string (nullable = true)\n",
      " |-- age: string (nullable = true)\n",
      " |-- gender: string (nullable = true)\n",
      " |-- salary: string (nullable = true)\n",
      " |-- hire_date: string (nullable = true)\n",
      " |-- new_gender: string (nullable = true)\n",
      " |-- new_name: string (nullable = true)\n",
      " |-- new_hire_date: date (nullable = true)\n",
      " |-- date_now: date (nullable = false)\n",
      " |-- timestamp_now: timestamp (nullable = false)\n",
      "\n"
     ]
    }
   ],
   "source": [
    "emp_dated_df.printSchema()"
   ]
  },
  {
   "cell_type": "code",
   "execution_count": 25,
   "id": "fd114d34",
   "metadata": {},
   "outputs": [],
   "source": [
    "emp_dated_droped_df = emp_dated_df.drop('gender', 'name', 'hire_date').withColumnRenamed('new_name', 'name') \\\n",
    "                                                                      .withColumnRenamed('new_hire_date', 'hire_date')\\\n",
    "                                                                      .withColumnRenamed('new_gender', 'gender')"
   ]
  },
  {
   "cell_type": "code",
   "execution_count": 26,
   "id": "ec93a2c6",
   "metadata": {},
   "outputs": [
    {
     "name": "stdout",
     "output_type": "stream",
     "text": [
      "root\n",
      " |-- employee_id: string (nullable = true)\n",
      " |-- department_id: string (nullable = true)\n",
      " |-- age: string (nullable = true)\n",
      " |-- salary: string (nullable = true)\n",
      " |-- gender: string (nullable = true)\n",
      " |-- name: string (nullable = true)\n",
      " |-- hire_date: date (nullable = true)\n",
      " |-- date_now: date (nullable = false)\n",
      " |-- timestamp_now: timestamp (nullable = false)\n",
      "\n"
     ]
    }
   ],
   "source": [
    "emp_dated_droped_df.printSchema()"
   ]
  },
  {
   "cell_type": "code",
   "execution_count": 28,
   "id": "edd73bdb",
   "metadata": {},
   "outputs": [
    {
     "name": "stdout",
     "output_type": "stream",
     "text": [
      "+-----------+-------------+---+------+------+-------------+----------+----------+--------------------+\n",
      "|employee_id|department_id|age|salary|gender|         name| hire_date|  date_now|       timestamp_now|\n",
      "+-----------+-------------+---+------+------+-------------+----------+----------+--------------------+\n",
      "|        001|          101| 30| 50000|     M|     Zohn Doe|2015-01-01|2024-12-22|2024-12-22 22:53:...|\n",
      "|        002|          101| 25| 45000|     F|   Zane Smith|2016-02-15|2024-12-22|2024-12-22 22:53:...|\n",
      "|        003|          102| 35| 55000|     M|    Bob Brown|2014-05-01|2024-12-22|2024-12-22 22:53:...|\n",
      "|        004|          102| 28| 48000|     F|    Alice Lee|2017-09-30|2024-12-22|2024-12-22 22:53:...|\n",
      "|        005|          103| 40| 60000|     M|    Zack Chan|2013-04-01|2024-12-22|2024-12-22 22:53:...|\n",
      "|        006|          103| 32| 52000|     F|    Zill Wong|2018-07-01|2024-12-22|2024-12-22 22:53:...|\n",
      "|        007|          101| 42| 70000|     M|Zames Zohnson|2012-03-15|2024-12-22|2024-12-22 22:53:...|\n",
      "|        008|          102| 29| 51000|     F|     Kate Kim|2019-10-01|2024-12-22|2024-12-22 22:53:...|\n",
      "|        009|          103| 33| 58000|     M|      Tom Tan|2016-06-01|2024-12-22|2024-12-22 22:53:...|\n",
      "|        010|          104| 27| 47000|     F|     Lisa Lee|2018-08-01|2024-12-22|2024-12-22 22:53:...|\n",
      "|        011|          104| 38| 65000|     M|   David Park|2015-11-01|2024-12-22|2024-12-22 22:53:...|\n",
      "|        012|          105| 31| 54000|     F|   Susan Chen|2017-02-15|2024-12-22|2024-12-22 22:53:...|\n",
      "|        013|          106| 45| 75000|     M|    Brian Kim|2011-07-01|2024-12-22|2024-12-22 22:53:...|\n",
      "|        014|          107| 26| 46000|     F|    Emily Lee|2019-01-01|2024-12-22|2024-12-22 22:53:...|\n",
      "|        015|          106| 37| 63000|     M|  Michael Lee|2014-09-30|2024-12-22|2024-12-22 22:53:...|\n",
      "|        016|          107| 30| 49000|     F|  Kelly Zhang|2018-04-01|2024-12-22|2024-12-22 22:53:...|\n",
      "|        017|          105| 34| 57000|     M|  George Wang|2016-03-15|2024-12-22|2024-12-22 22:53:...|\n",
      "|        018|          104| 29| 50000|  NULL|    Nancy Liu|2017-06-01|2024-12-22|2024-12-22 22:53:...|\n",
      "|        019|          103| 36| 62000|     M|  Steven Chen|2015-08-01|2024-12-22|2024-12-22 22:53:...|\n",
      "|        020|          102| 32| 53000|     F|    Grace Kim|2018-11-01|2024-12-22|2024-12-22 22:53:...|\n",
      "+-----------+-------------+---+------+------+-------------+----------+----------+--------------------+\n",
      "\n"
     ]
    }
   ],
   "source": [
    "emp_dated_droped_df.show()"
   ]
  },
  {
   "cell_type": "code",
   "execution_count": 29,
   "id": "77245a1b",
   "metadata": {},
   "outputs": [],
   "source": [
    "# Drop Null gender records\n",
    "emp_dated_droped_null_df = emp_dated_droped_df.na.drop()"
   ]
  },
  {
   "cell_type": "code",
   "execution_count": 31,
   "id": "7b3391cc",
   "metadata": {},
   "outputs": [
    {
     "name": "stdout",
     "output_type": "stream",
     "text": [
      "+-----------+-------------+---+------+------+-------------+----------+----------+--------------------+\n",
      "|employee_id|department_id|age|salary|gender|         name| hire_date|  date_now|       timestamp_now|\n",
      "+-----------+-------------+---+------+------+-------------+----------+----------+--------------------+\n",
      "|        001|          101| 30| 50000|     M|     Zohn Doe|2015-01-01|2024-12-22|2024-12-22 22:53:...|\n",
      "|        002|          101| 25| 45000|     F|   Zane Smith|2016-02-15|2024-12-22|2024-12-22 22:53:...|\n",
      "|        003|          102| 35| 55000|     M|    Bob Brown|2014-05-01|2024-12-22|2024-12-22 22:53:...|\n",
      "|        004|          102| 28| 48000|     F|    Alice Lee|2017-09-30|2024-12-22|2024-12-22 22:53:...|\n",
      "|        005|          103| 40| 60000|     M|    Zack Chan|2013-04-01|2024-12-22|2024-12-22 22:53:...|\n",
      "|        006|          103| 32| 52000|     F|    Zill Wong|2018-07-01|2024-12-22|2024-12-22 22:53:...|\n",
      "|        007|          101| 42| 70000|     M|Zames Zohnson|2012-03-15|2024-12-22|2024-12-22 22:53:...|\n",
      "|        008|          102| 29| 51000|     F|     Kate Kim|2019-10-01|2024-12-22|2024-12-22 22:53:...|\n",
      "|        009|          103| 33| 58000|     M|      Tom Tan|2016-06-01|2024-12-22|2024-12-22 22:53:...|\n",
      "|        010|          104| 27| 47000|     F|     Lisa Lee|2018-08-01|2024-12-22|2024-12-22 22:53:...|\n",
      "|        011|          104| 38| 65000|     M|   David Park|2015-11-01|2024-12-22|2024-12-22 22:53:...|\n",
      "|        012|          105| 31| 54000|     F|   Susan Chen|2017-02-15|2024-12-22|2024-12-22 22:53:...|\n",
      "|        013|          106| 45| 75000|     M|    Brian Kim|2011-07-01|2024-12-22|2024-12-22 22:53:...|\n",
      "|        014|          107| 26| 46000|     F|    Emily Lee|2019-01-01|2024-12-22|2024-12-22 22:53:...|\n",
      "|        015|          106| 37| 63000|     M|  Michael Lee|2014-09-30|2024-12-22|2024-12-22 22:53:...|\n",
      "|        016|          107| 30| 49000|     F|  Kelly Zhang|2018-04-01|2024-12-22|2024-12-22 22:53:...|\n",
      "|        017|          105| 34| 57000|     M|  George Wang|2016-03-15|2024-12-22|2024-12-22 22:53:...|\n",
      "|        019|          103| 36| 62000|     M|  Steven Chen|2015-08-01|2024-12-22|2024-12-22 22:53:...|\n",
      "|        020|          102| 32| 53000|     F|    Grace Kim|2018-11-01|2024-12-22|2024-12-22 22:53:...|\n",
      "+-----------+-------------+---+------+------+-------------+----------+----------+--------------------+\n",
      "\n"
     ]
    }
   ],
   "source": [
    "emp_dated_droped_null_df.show()"
   ]
  },
  {
   "cell_type": "code",
   "execution_count": 32,
   "id": "8bc77814",
   "metadata": {},
   "outputs": [],
   "source": [
    "# Fix Null values\n",
    "# select *, nvl('new_gender', 'O') as new_gender from emp_dated\n",
    "from pyspark.sql.functions import coalesce, lit\n",
    "\n",
    "emp_dated_droped_fix_null_df = emp_dated_droped_df.withColumn(\"gender\", coalesce(col(\"gender\"), lit(\"O\")))"
   ]
  },
  {
   "cell_type": "code",
   "execution_count": 33,
   "id": "7e39e373",
   "metadata": {},
   "outputs": [
    {
     "name": "stdout",
     "output_type": "stream",
     "text": [
      "+-----------+-------------+---+------+------+-------------+----------+----------+--------------------+\n",
      "|employee_id|department_id|age|salary|gender|         name| hire_date|  date_now|       timestamp_now|\n",
      "+-----------+-------------+---+------+------+-------------+----------+----------+--------------------+\n",
      "|        001|          101| 30| 50000|     M|     Zohn Doe|2015-01-01|2024-12-22|2024-12-22 22:55:...|\n",
      "|        002|          101| 25| 45000|     F|   Zane Smith|2016-02-15|2024-12-22|2024-12-22 22:55:...|\n",
      "|        003|          102| 35| 55000|     M|    Bob Brown|2014-05-01|2024-12-22|2024-12-22 22:55:...|\n",
      "|        004|          102| 28| 48000|     F|    Alice Lee|2017-09-30|2024-12-22|2024-12-22 22:55:...|\n",
      "|        005|          103| 40| 60000|     M|    Zack Chan|2013-04-01|2024-12-22|2024-12-22 22:55:...|\n",
      "|        006|          103| 32| 52000|     F|    Zill Wong|2018-07-01|2024-12-22|2024-12-22 22:55:...|\n",
      "|        007|          101| 42| 70000|     M|Zames Zohnson|2012-03-15|2024-12-22|2024-12-22 22:55:...|\n",
      "|        008|          102| 29| 51000|     F|     Kate Kim|2019-10-01|2024-12-22|2024-12-22 22:55:...|\n",
      "|        009|          103| 33| 58000|     M|      Tom Tan|2016-06-01|2024-12-22|2024-12-22 22:55:...|\n",
      "|        010|          104| 27| 47000|     F|     Lisa Lee|2018-08-01|2024-12-22|2024-12-22 22:55:...|\n",
      "|        011|          104| 38| 65000|     M|   David Park|2015-11-01|2024-12-22|2024-12-22 22:55:...|\n",
      "|        012|          105| 31| 54000|     F|   Susan Chen|2017-02-15|2024-12-22|2024-12-22 22:55:...|\n",
      "|        013|          106| 45| 75000|     M|    Brian Kim|2011-07-01|2024-12-22|2024-12-22 22:55:...|\n",
      "|        014|          107| 26| 46000|     F|    Emily Lee|2019-01-01|2024-12-22|2024-12-22 22:55:...|\n",
      "|        015|          106| 37| 63000|     M|  Michael Lee|2014-09-30|2024-12-22|2024-12-22 22:55:...|\n",
      "|        016|          107| 30| 49000|     F|  Kelly Zhang|2018-04-01|2024-12-22|2024-12-22 22:55:...|\n",
      "|        017|          105| 34| 57000|     M|  George Wang|2016-03-15|2024-12-22|2024-12-22 22:55:...|\n",
      "|        018|          104| 29| 50000|     O|    Nancy Liu|2017-06-01|2024-12-22|2024-12-22 22:55:...|\n",
      "|        019|          103| 36| 62000|     M|  Steven Chen|2015-08-01|2024-12-22|2024-12-22 22:55:...|\n",
      "|        020|          102| 32| 53000|     F|    Grace Kim|2018-11-01|2024-12-22|2024-12-22 22:55:...|\n",
      "+-----------+-------------+---+------+------+-------------+----------+----------+--------------------+\n",
      "\n"
     ]
    }
   ],
   "source": [
    "emp_dated_droped_fix_null_df.show()"
   ]
  },
  {
   "cell_type": "code",
   "execution_count": 43,
   "id": "b10261ee",
   "metadata": {},
   "outputs": [],
   "source": [
    "# Convert date into String and extract date information\n",
    "from pyspark.sql.functions import date_format\n",
    "\n",
    "emp_final_df = emp_dated_droped_fix_null_df.withColumn('year', date_format(col('hire_date'),'y')) \\\n",
    "                                           .withColumn('quarter', date_format(col('hire_date'),'Q/q'))"
   ]
  },
  {
   "cell_type": "code",
   "execution_count": 44,
   "id": "6fdc8af6",
   "metadata": {},
   "outputs": [
    {
     "name": "stdout",
     "output_type": "stream",
     "text": [
      "+-----------+-------------+---+------+------+-------------+----------+----------+--------------------+----+-------+\n",
      "|employee_id|department_id|age|salary|gender|         name| hire_date|  date_now|       timestamp_now|year|quarter|\n",
      "+-----------+-------------+---+------+------+-------------+----------+----------+--------------------+----+-------+\n",
      "|        001|          101| 30| 50000|     M|     Zohn Doe|2015-01-01|2024-12-22|2024-12-22 23:01:...|2015|    1/1|\n",
      "|        002|          101| 25| 45000|     F|   Zane Smith|2016-02-15|2024-12-22|2024-12-22 23:01:...|2016|    1/1|\n",
      "|        003|          102| 35| 55000|     M|    Bob Brown|2014-05-01|2024-12-22|2024-12-22 23:01:...|2014|    2/2|\n",
      "|        004|          102| 28| 48000|     F|    Alice Lee|2017-09-30|2024-12-22|2024-12-22 23:01:...|2017|    3/3|\n",
      "|        005|          103| 40| 60000|     M|    Zack Chan|2013-04-01|2024-12-22|2024-12-22 23:01:...|2013|    2/2|\n",
      "|        006|          103| 32| 52000|     F|    Zill Wong|2018-07-01|2024-12-22|2024-12-22 23:01:...|2018|    3/3|\n",
      "|        007|          101| 42| 70000|     M|Zames Zohnson|2012-03-15|2024-12-22|2024-12-22 23:01:...|2012|    1/1|\n",
      "|        008|          102| 29| 51000|     F|     Kate Kim|2019-10-01|2024-12-22|2024-12-22 23:01:...|2019|    4/4|\n",
      "|        009|          103| 33| 58000|     M|      Tom Tan|2016-06-01|2024-12-22|2024-12-22 23:01:...|2016|    2/2|\n",
      "|        010|          104| 27| 47000|     F|     Lisa Lee|2018-08-01|2024-12-22|2024-12-22 23:01:...|2018|    3/3|\n",
      "|        011|          104| 38| 65000|     M|   David Park|2015-11-01|2024-12-22|2024-12-22 23:01:...|2015|    4/4|\n",
      "|        012|          105| 31| 54000|     F|   Susan Chen|2017-02-15|2024-12-22|2024-12-22 23:01:...|2017|    1/1|\n",
      "|        013|          106| 45| 75000|     M|    Brian Kim|2011-07-01|2024-12-22|2024-12-22 23:01:...|2011|    3/3|\n",
      "|        014|          107| 26| 46000|     F|    Emily Lee|2019-01-01|2024-12-22|2024-12-22 23:01:...|2019|    1/1|\n",
      "|        015|          106| 37| 63000|     M|  Michael Lee|2014-09-30|2024-12-22|2024-12-22 23:01:...|2014|    3/3|\n",
      "|        016|          107| 30| 49000|     F|  Kelly Zhang|2018-04-01|2024-12-22|2024-12-22 23:01:...|2018|    2/2|\n",
      "|        017|          105| 34| 57000|     M|  George Wang|2016-03-15|2024-12-22|2024-12-22 23:01:...|2016|    1/1|\n",
      "|        018|          104| 29| 50000|     O|    Nancy Liu|2017-06-01|2024-12-22|2024-12-22 23:01:...|2017|    2/2|\n",
      "|        019|          103| 36| 62000|     M|  Steven Chen|2015-08-01|2024-12-22|2024-12-22 23:01:...|2015|    3/3|\n",
      "|        020|          102| 32| 53000|     F|    Grace Kim|2018-11-01|2024-12-22|2024-12-22 23:01:...|2018|    4/4|\n",
      "+-----------+-------------+---+------+------+-------------+----------+----------+--------------------+----+-------+\n",
      "\n"
     ]
    }
   ],
   "source": [
    "emp_final_df.show()"
   ]
  },
  {
   "cell_type": "code",
   "execution_count": null,
   "id": "13d82fd9",
   "metadata": {},
   "outputs": [],
   "source": []
  }
 ],
 "metadata": {
  "kernelspec": {
   "display_name": "Python 3 (ipykernel)",
   "language": "python",
   "name": "python3"
  },
  "language_info": {
   "codemirror_mode": {
    "name": "ipython",
    "version": 3
   },
   "file_extension": ".py",
   "mimetype": "text/x-python",
   "name": "python",
   "nbconvert_exporter": "python",
   "pygments_lexer": "ipython3",
   "version": "3.11.6"
  }
 },
 "nbformat": 4,
 "nbformat_minor": 5
}
