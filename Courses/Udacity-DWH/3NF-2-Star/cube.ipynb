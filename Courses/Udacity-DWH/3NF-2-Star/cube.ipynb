{
 "cells": [
  {
   "cell_type": "code",
   "execution_count": 1,
   "id": "3cfc66ce-97b0-489c-8a77-56e52cfafd75",
   "metadata": {},
   "outputs": [],
   "source": [
    "import psycopg2\n",
    "from dotenv import load_dotenv\n",
    "import os\n",
    "import pandas as pd\n",
    "from prettytable import PrettyTable"
   ]
  },
  {
   "cell_type": "markdown",
   "id": "28d0c0b0-2d80-4922-a42a-03b31d386f69",
   "metadata": {},
   "source": [
    "# Connect to db"
   ]
  },
  {
   "cell_type": "code",
   "execution_count": 2,
   "id": "20c84654-5a88-4676-8bd0-07eceeecb264",
   "metadata": {},
   "outputs": [],
   "source": [
    "%load_ext dotenv\n",
    "%dotenv"
   ]
  },
  {
   "cell_type": "code",
   "execution_count": 3,
   "id": "56941909-b581-4cfe-9bb5-cd49e092d1c2",
   "metadata": {},
   "outputs": [],
   "source": [
    "connection = psycopg2.connect(\n",
    "        host=os.getenv('DATABASE_HOST'),\n",
    "        port=os.getenv('DATABASE_PORT'),\n",
    "        user=os.getenv('DATABASE_USER'),\n",
    "        password=os.getenv('DATABASE_PASSWORD'),\n",
    "        dbname=os.getenv('DATABASE_NAME'),\n",
    "    )\n",
    "connection.autocommit = True\n",
    "cursor = connection.cursor()"
   ]
  },
  {
   "cell_type": "code",
   "execution_count": 4,
   "id": "e1dc4448-5917-4cad-a7ba-7a486f2d79e9",
   "metadata": {},
   "outputs": [],
   "source": [
    "def select_query(query):\n",
    "    cursor.execute(query)\n",
    "    \n",
    "    rows = cursor.fetchall()\n",
    "    columns = [desc[0] for desc in cursor.description]\n",
    "\n",
    "    # format the output nicely\n",
    "    table = PrettyTable()\n",
    "    table.field_names = columns\n",
    "    for row in rows:\n",
    "        table.add_row(row)\n",
    "                      \n",
    "    return table"
   ]
  },
  {
   "cell_type": "code",
   "execution_count": 5,
   "id": "0b3c0dba-fc37-40ac-ab7c-c416cd5e761e",
   "metadata": {},
   "outputs": [],
   "source": [
    "def other_queries(query):\n",
    "    cursor.execute(query)"
   ]
  },
  {
   "cell_type": "markdown",
   "id": "58dbd0d7-e879-4d84-a231-20377a84a561",
   "metadata": {},
   "source": [
    "# Invistigate db"
   ]
  },
  {
   "cell_type": "markdown",
   "id": "8d018430-ebd0-442a-bfa8-612c387efa22",
   "metadata": {},
   "source": [
    "![](images/Star.png)"
   ]
  },
  {
   "cell_type": "code",
   "execution_count": 8,
   "id": "3228b7f5-af05-4757-ba6e-c4136a5b7b57",
   "metadata": {},
   "outputs": [
    {
     "data": {
      "text/html": [
       "<table>\n",
       "    <thead>\n",
       "        <tr>\n",
       "            <th>date_key</th>\n",
       "            <th>date</th>\n",
       "            <th>year</th>\n",
       "            <th>quarter</th>\n",
       "            <th>month</th>\n",
       "            <th>week</th>\n",
       "            <th>day</th>\n",
       "            <th>is_weekend</th>\n",
       "        </tr>\n",
       "    </thead>\n",
       "    <tbody>\n",
       "        <tr>\n",
       "            <td>20070320</td>\n",
       "            <td>2007-03-20</td>\n",
       "            <td>2007</td>\n",
       "            <td>1</td>\n",
       "            <td>3</td>\n",
       "            <td>12</td>\n",
       "            <td>20</td>\n",
       "            <td>False</td>\n",
       "        </tr>\n",
       "        <tr>\n",
       "            <td>20070129</td>\n",
       "            <td>2007-01-29</td>\n",
       "            <td>2007</td>\n",
       "            <td>1</td>\n",
       "            <td>1</td>\n",
       "            <td>5</td>\n",
       "            <td>29</td>\n",
       "            <td>False</td>\n",
       "        </tr>\n",
       "        <tr>\n",
       "            <td>20070406</td>\n",
       "            <td>2007-04-06</td>\n",
       "            <td>2007</td>\n",
       "            <td>2</td>\n",
       "            <td>4</td>\n",
       "            <td>14</td>\n",
       "            <td>6</td>\n",
       "            <td>False</td>\n",
       "        </tr>\n",
       "    </tbody>\n",
       "</table>"
      ],
      "text/plain": [
       "+----------+------------+------+---------+-------+------+-----+------------+\n",
       "| date_key |    date    | year | quarter | month | week | day | is_weekend |\n",
       "+----------+------------+------+---------+-------+------+-----+------------+\n",
       "| 20070320 | 2007-03-20 | 2007 |    1    |   3   |  12  |  20 |   False    |\n",
       "| 20070129 | 2007-01-29 | 2007 |    1    |   1   |  5   |  29 |   False    |\n",
       "| 20070406 | 2007-04-06 | 2007 |    2    |   4   |  14  |  6  |   False    |\n",
       "+----------+------------+------+---------+-------+------+-----+------------+"
      ]
     },
     "execution_count": 8,
     "metadata": {},
     "output_type": "execute_result"
    }
   ],
   "source": [
    "query = (\"\"\"\n",
    "    select * from dimDate limit 3;\n",
    "\"\"\")\n",
    "select_query(query)"
   ]
  },
  {
   "cell_type": "code",
   "execution_count": 10,
   "id": "673609e9-de08-4dd1-b96d-9f1b1bb47891",
   "metadata": {},
   "outputs": [
    {
     "data": {
      "text/html": [
       "<table>\n",
       "    <thead>\n",
       "        <tr>\n",
       "            <th>customer_key</th>\n",
       "            <th>customer_id</th>\n",
       "            <th>first_name</th>\n",
       "            <th>last_name</th>\n",
       "            <th>email</th>\n",
       "            <th>address</th>\n",
       "            <th>address2</th>\n",
       "            <th>district</th>\n",
       "            <th>city</th>\n",
       "            <th>country</th>\n",
       "            <th>postal_code</th>\n",
       "            <th>phone</th>\n",
       "            <th>active</th>\n",
       "            <th>create_date</th>\n",
       "            <th>start_date</th>\n",
       "            <th>end_date</th>\n",
       "        </tr>\n",
       "    </thead>\n",
       "    <tbody>\n",
       "        <tr>\n",
       "            <td>1</td>\n",
       "            <td>1</td>\n",
       "            <td>MARY</td>\n",
       "            <td>SMITH</td>\n",
       "            <td>MARY.SMITH@sakilacustomer.org</td>\n",
       "            <td>1913 Hanoi Way</td>\n",
       "            <td></td>\n",
       "            <td>Nagasaki</td>\n",
       "            <td>Sasebo</td>\n",
       "            <td>Japan</td>\n",
       "            <td>35200</td>\n",
       "            <td>28303384290</td>\n",
       "            <td>1</td>\n",
       "            <td>2006-02-14 00:00:00</td>\n",
       "            <td>2024-12-04</td>\n",
       "            <td>2024-12-04</td>\n",
       "        </tr>\n",
       "        <tr>\n",
       "            <td>2</td>\n",
       "            <td>2</td>\n",
       "            <td>PATRICIA</td>\n",
       "            <td>JOHNSON</td>\n",
       "            <td>PATRICIA.JOHNSON@sakilacustomer.org</td>\n",
       "            <td>1121 Loja Avenue</td>\n",
       "            <td></td>\n",
       "            <td>California</td>\n",
       "            <td>San Bernardino</td>\n",
       "            <td>United States</td>\n",
       "            <td>17886</td>\n",
       "            <td>838635286649</td>\n",
       "            <td>1</td>\n",
       "            <td>2006-02-14 00:00:00</td>\n",
       "            <td>2024-12-04</td>\n",
       "            <td>2024-12-04</td>\n",
       "        </tr>\n",
       "        <tr>\n",
       "            <td>3</td>\n",
       "            <td>3</td>\n",
       "            <td>LINDA</td>\n",
       "            <td>WILLIAMS</td>\n",
       "            <td>LINDA.WILLIAMS@sakilacustomer.org</td>\n",
       "            <td>692 Joliet Street</td>\n",
       "            <td></td>\n",
       "            <td>Attika</td>\n",
       "            <td>Athenai</td>\n",
       "            <td>Greece</td>\n",
       "            <td>83579</td>\n",
       "            <td>448477190408</td>\n",
       "            <td>1</td>\n",
       "            <td>2006-02-14 00:00:00</td>\n",
       "            <td>2024-12-04</td>\n",
       "            <td>2024-12-04</td>\n",
       "        </tr>\n",
       "    </tbody>\n",
       "</table>"
      ],
      "text/plain": [
       "+--------------+-------------+------------+-----------+-------------------------------------+-------------------+----------+------------+----------------+---------------+-------------+--------------+--------+---------------------+------------+------------+\n",
       "| customer_key | customer_id | first_name | last_name |                email                |      address      | address2 |  district  |      city      |    country    | postal_code |    phone     | active |     create_date     | start_date |  end_date  |\n",
       "+--------------+-------------+------------+-----------+-------------------------------------+-------------------+----------+------------+----------------+---------------+-------------+--------------+--------+---------------------+------------+------------+\n",
       "|      1       |      1      |    MARY    |   SMITH   |    MARY.SMITH@sakilacustomer.org    |   1913 Hanoi Way  |          |  Nagasaki  |     Sasebo     |     Japan     |    35200    | 28303384290  |   1    | 2006-02-14 00:00:00 | 2024-12-04 | 2024-12-04 |\n",
       "|      2       |      2      |  PATRICIA  |  JOHNSON  | PATRICIA.JOHNSON@sakilacustomer.org |  1121 Loja Avenue |          | California | San Bernardino | United States |    17886    | 838635286649 |   1    | 2006-02-14 00:00:00 | 2024-12-04 | 2024-12-04 |\n",
       "|      3       |      3      |   LINDA    |  WILLIAMS |  LINDA.WILLIAMS@sakilacustomer.org  | 692 Joliet Street |          |   Attika   |    Athenai     |     Greece    |    83579    | 448477190408 |   1    | 2006-02-14 00:00:00 | 2024-12-04 | 2024-12-04 |\n",
       "+--------------+-------------+------------+-----------+-------------------------------------+-------------------+----------+------------+----------------+---------------+-------------+--------------+--------+---------------------+------------+------------+"
      ]
     },
     "execution_count": 10,
     "metadata": {},
     "output_type": "execute_result"
    }
   ],
   "source": [
    "query = (\"\"\"\n",
    "    select * from dimCustomer limit 3;\n",
    "\"\"\")\n",
    "select_query(query)"
   ]
  },
  {
   "cell_type": "code",
   "execution_count": 11,
   "id": "112b9fe2-fcec-4b2c-8010-8f46c032391d",
   "metadata": {},
   "outputs": [
    {
     "data": {
      "text/html": [
       "<table>\n",
       "    <thead>\n",
       "        <tr>\n",
       "            <th>movie_key</th>\n",
       "            <th>film_id</th>\n",
       "            <th>title</th>\n",
       "            <th>description</th>\n",
       "            <th>release_year</th>\n",
       "            <th>language</th>\n",
       "            <th>original_language</th>\n",
       "            <th>rental_duration</th>\n",
       "            <th>length</th>\n",
       "            <th>rating</th>\n",
       "            <th>special_features</th>\n",
       "        </tr>\n",
       "    </thead>\n",
       "    <tbody>\n",
       "        <tr>\n",
       "            <td>1</td>\n",
       "            <td>1</td>\n",
       "            <td>ACADEMY DINOSAUR</td>\n",
       "            <td>A Epic Drama of a Feminist And a Mad Scientist who must Battle a Teacher in The Canadian Rockies</td>\n",
       "            <td>2006</td>\n",
       "            <td>English</td>\n",
       "            <td>English</td>\n",
       "            <td>6</td>\n",
       "            <td>86</td>\n",
       "            <td>PG</td>\n",
       "            <td>{&quot;Deleted Scenes&quot;,&quot;Behind the Scenes&quot;}</td>\n",
       "        </tr>\n",
       "        <tr>\n",
       "            <td>2</td>\n",
       "            <td>2</td>\n",
       "            <td>ACE GOLDFINGER</td>\n",
       "            <td>A Astounding Epistle of a Database Administrator And a Explorer who must Find a Car in Ancient China</td>\n",
       "            <td>2006</td>\n",
       "            <td>English</td>\n",
       "            <td>English</td>\n",
       "            <td>3</td>\n",
       "            <td>48</td>\n",
       "            <td>G</td>\n",
       "            <td>{Trailers,&quot;Deleted Scenes&quot;}</td>\n",
       "        </tr>\n",
       "        <tr>\n",
       "            <td>3</td>\n",
       "            <td>3</td>\n",
       "            <td>ADAPTATION HOLES</td>\n",
       "            <td>A Astounding Reflection of a Lumberjack And a Car who must Sink a Lumberjack in A Baloon Factory</td>\n",
       "            <td>2006</td>\n",
       "            <td>English</td>\n",
       "            <td>English</td>\n",
       "            <td>7</td>\n",
       "            <td>50</td>\n",
       "            <td>NC-17</td>\n",
       "            <td>{Trailers,&quot;Deleted Scenes&quot;}</td>\n",
       "        </tr>\n",
       "    </tbody>\n",
       "</table>"
      ],
      "text/plain": [
       "+-----------+---------+------------------+------------------------------------------------------------------------------------------------------+--------------+----------+-------------------+-----------------+--------+--------+----------------------------------------+\n",
       "| movie_key | film_id |      title       |                                             description                                              | release_year | language | original_language | rental_duration | length | rating |            special_features            |\n",
       "+-----------+---------+------------------+------------------------------------------------------------------------------------------------------+--------------+----------+-------------------+-----------------+--------+--------+----------------------------------------+\n",
       "|     1     |    1    | ACADEMY DINOSAUR |   A Epic Drama of a Feminist And a Mad Scientist who must Battle a Teacher in The Canadian Rockies   |     2006     | English  |      English      |        6        |   86   |   PG   | {\"Deleted Scenes\",\"Behind the Scenes\"} |\n",
       "|     2     |    2    |  ACE GOLDFINGER  | A Astounding Epistle of a Database Administrator And a Explorer who must Find a Car in Ancient China |     2006     | English  |      English      |        3        |   48   |   G    |      {Trailers,\"Deleted Scenes\"}       |\n",
       "|     3     |    3    | ADAPTATION HOLES |   A Astounding Reflection of a Lumberjack And a Car who must Sink a Lumberjack in A Baloon Factory   |     2006     | English  |      English      |        7        |   50   | NC-17  |      {Trailers,\"Deleted Scenes\"}       |\n",
       "+-----------+---------+------------------+------------------------------------------------------------------------------------------------------+--------------+----------+-------------------+-----------------+--------+--------+----------------------------------------+"
      ]
     },
     "execution_count": 11,
     "metadata": {},
     "output_type": "execute_result"
    }
   ],
   "source": [
    "query = (\"\"\"\n",
    "    select * from dimMovie limit 3;\n",
    "\"\"\")\n",
    "select_query(query)"
   ]
  },
  {
   "cell_type": "code",
   "execution_count": 12,
   "id": "35a9aa90-2717-4fcd-af9a-c2f260b10c64",
   "metadata": {},
   "outputs": [
    {
     "data": {
      "text/html": [
       "<table>\n",
       "    <thead>\n",
       "        <tr>\n",
       "            <th>store_key</th>\n",
       "            <th>store_id</th>\n",
       "            <th>address</th>\n",
       "            <th>address2</th>\n",
       "            <th>district</th>\n",
       "            <th>city</th>\n",
       "            <th>country</th>\n",
       "            <th>postal_code</th>\n",
       "            <th>manager_first_name</th>\n",
       "            <th>manager_last_name</th>\n",
       "            <th>start_date</th>\n",
       "            <th>end_date</th>\n",
       "        </tr>\n",
       "    </thead>\n",
       "    <tbody>\n",
       "        <tr>\n",
       "            <td>1</td>\n",
       "            <td>1</td>\n",
       "            <td>47 MySakila Drive</td>\n",
       "            <td>None</td>\n",
       "            <td>Alberta</td>\n",
       "            <td>Lethbridge</td>\n",
       "            <td>Canada</td>\n",
       "            <td></td>\n",
       "            <td>Mike</td>\n",
       "            <td>Hillyer</td>\n",
       "            <td>2024-12-04</td>\n",
       "            <td>2024-12-04</td>\n",
       "        </tr>\n",
       "        <tr>\n",
       "            <td>2</td>\n",
       "            <td>2</td>\n",
       "            <td>28 MySQL Boulevard</td>\n",
       "            <td>None</td>\n",
       "            <td>QLD</td>\n",
       "            <td>Woodridge</td>\n",
       "            <td>Australia</td>\n",
       "            <td></td>\n",
       "            <td>Jon</td>\n",
       "            <td>Stephens</td>\n",
       "            <td>2024-12-04</td>\n",
       "            <td>2024-12-04</td>\n",
       "        </tr>\n",
       "    </tbody>\n",
       "</table>"
      ],
      "text/plain": [
       "+-----------+----------+--------------------+----------+----------+------------+-----------+-------------+--------------------+-------------------+------------+------------+\n",
       "| store_key | store_id |      address       | address2 | district |    city    |  country  | postal_code | manager_first_name | manager_last_name | start_date |  end_date  |\n",
       "+-----------+----------+--------------------+----------+----------+------------+-----------+-------------+--------------------+-------------------+------------+------------+\n",
       "|     1     |    1     | 47 MySakila Drive  |   None   | Alberta  | Lethbridge |   Canada  |             |        Mike        |      Hillyer      | 2024-12-04 | 2024-12-04 |\n",
       "|     2     |    2     | 28 MySQL Boulevard |   None   |   QLD    | Woodridge  | Australia |             |        Jon         |      Stephens     | 2024-12-04 | 2024-12-04 |\n",
       "+-----------+----------+--------------------+----------+----------+------------+-----------+-------------+--------------------+-------------------+------------+------------+"
      ]
     },
     "execution_count": 12,
     "metadata": {},
     "output_type": "execute_result"
    }
   ],
   "source": [
    "query = (\"\"\"\n",
    "    select * from dimStore limit 3;\n",
    "\"\"\")\n",
    "select_query(query)"
   ]
  },
  {
   "cell_type": "code",
   "execution_count": 13,
   "id": "3e7a5009-3893-41c2-b026-764179cba74c",
   "metadata": {},
   "outputs": [
    {
     "data": {
      "text/html": [
       "<table>\n",
       "    <thead>\n",
       "        <tr>\n",
       "            <th>sales_key</th>\n",
       "            <th>date_key</th>\n",
       "            <th>customer_key</th>\n",
       "            <th>movie_key</th>\n",
       "            <th>store_key</th>\n",
       "            <th>sales_amount</th>\n",
       "        </tr>\n",
       "    </thead>\n",
       "    <tbody>\n",
       "        <tr>\n",
       "            <td>1</td>\n",
       "            <td>20070124</td>\n",
       "            <td>269</td>\n",
       "            <td>870</td>\n",
       "            <td>2</td>\n",
       "            <td>1.99</td>\n",
       "        </tr>\n",
       "        <tr>\n",
       "            <td>2</td>\n",
       "            <td>20070125</td>\n",
       "            <td>269</td>\n",
       "            <td>651</td>\n",
       "            <td>1</td>\n",
       "            <td>0.99</td>\n",
       "        </tr>\n",
       "        <tr>\n",
       "            <td>3</td>\n",
       "            <td>20070128</td>\n",
       "            <td>269</td>\n",
       "            <td>818</td>\n",
       "            <td>1</td>\n",
       "            <td>6.99</td>\n",
       "        </tr>\n",
       "    </tbody>\n",
       "</table>"
      ],
      "text/plain": [
       "+-----------+----------+--------------+-----------+-----------+--------------+\n",
       "| sales_key | date_key | customer_key | movie_key | store_key | sales_amount |\n",
       "+-----------+----------+--------------+-----------+-----------+--------------+\n",
       "|     1     | 20070124 |     269      |    870    |     2     |     1.99     |\n",
       "|     2     | 20070125 |     269      |    651    |     1     |     0.99     |\n",
       "|     3     | 20070128 |     269      |    818    |     1     |     6.99     |\n",
       "+-----------+----------+--------------+-----------+-----------+--------------+"
      ]
     },
     "execution_count": 13,
     "metadata": {},
     "output_type": "execute_result"
    }
   ],
   "source": [
    "query = (\"\"\"\n",
    "    select * from factSales limit 3;\n",
    "\"\"\")\n",
    "select_query(query)"
   ]
  },
  {
   "cell_type": "code",
   "execution_count": null,
   "id": "b948e9fb-69e0-46bb-a7cc-4085500b9fa2",
   "metadata": {},
   "outputs": [],
   "source": []
  }
 ],
 "metadata": {
  "kernelspec": {
   "display_name": "Python 3 (ipykernel)",
   "language": "python",
   "name": "python3"
  },
  "language_info": {
   "codemirror_mode": {
    "name": "ipython",
    "version": 3
   },
   "file_extension": ".py",
   "mimetype": "text/x-python",
   "name": "python",
   "nbconvert_exporter": "python",
   "pygments_lexer": "ipython3",
   "version": "3.11.6"
  }
 },
 "nbformat": 4,
 "nbformat_minor": 5
}
